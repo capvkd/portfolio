{
 "cells": [
  {
   "cell_type": "markdown",
   "metadata": {},
   "source": [
    "# Probabilities of Winning a Lottery Jackpot\n",
    "\n",
    "A medical institute that aims to treat and prevent gambling addictions is developing an app to help lottery addicts better asses their chances of winning. In this projects, we will develop the logic that drives a mobile app aimed at lottery addicts. The app will help users better determine their chances of winning.\n",
    "\n",
    "We will create functions that calculate the probabilities of winning the [6/49 lottery](https://en.wikipedia.org/wiki/Lotto_6/49)."
   ]
  },
  {
   "cell_type": "code",
   "execution_count": 1,
   "metadata": {
    "collapsed": true
   },
   "outputs": [],
   "source": [
    "import pandas as pd"
   ]
  },
  {
   "cell_type": "markdown",
   "metadata": {},
   "source": [
    "### Core functions\n",
    "\n",
    "In order to create the logic the app will use to calculate the probability of winning the lottery, we will need to repeatedly calculate the number of possible combinations, without replacement:\n",
    "\n",
    "\\begin{align*}\n",
    "_n(C)_k = {n \\choose k} = \\frac{n!}{k!(n - k)!}\n",
    "\\end{align*}\n",
    "\n",
    "The best approach, therefore, is to code a function that will calculate the number of possible combinations taking **k** objects from a group of **n** objects.\n",
    "\n",
    "We observe that our combination function will require the calculation of factorials, so we should also code a function to calculate **n** factorial:\n",
    "\n",
    "\\begin{align*}\n",
    "n! = n \\times (n - 1) \\times (n - 2) \\times...\\times 2 \\times 1\n",
    "\\end{align*}\n",
    "\n",
    "These two functions will serve as the core functions of our app logic."
   ]
  },
  {
   "cell_type": "code",
   "execution_count": 2,
   "metadata": {
    "collapsed": true
   },
   "outputs": [],
   "source": [
    "#Formula to calculate factorials\n",
    "def factorial(n):\n",
    "    n_factorial = 1\n",
    "    for i in range(2,n+1):\n",
    "        n_factorial = n_factorial * i\n",
    "    return n_factorial"
   ]
  },
  {
   "cell_type": "code",
   "execution_count": 3,
   "metadata": {
    "collapsed": true
   },
   "outputs": [],
   "source": [
    "#Formula to calculate number of combinations\n",
    "def combinations(n,k):\n",
    "    return factorial(n)/(factorial(k)*factorial(n-k))"
   ]
  },
  {
   "cell_type": "markdown",
   "metadata": {},
   "source": [
    "### Probability of winning for a given ticket\n",
    "\n",
    "The first part we'll develop is the probability of winning with one ticket, which means the chances of winning given any six-number combination.\n",
    "\n",
    "Based on discussions with the institute's engineering team, there are three things to keep in mind for this function:\n",
    "- Inside the app, the user inputs six different numbers from 1 to 49.\n",
    "- Under the hood, the six numbers will come as a Python list, which will serve as the single input to our function.\n",
    "- The engineering team wants the function to print the probability value in a friendly way — in a way that people without any probability training are able to understand."
   ]
  },
  {
   "cell_type": "code",
   "execution_count": 4,
   "metadata": {
    "collapsed": true
   },
   "outputs": [],
   "source": [
    "#Function to calculate and print the probablity of winning given a single six-number combination\n",
    "def one_ticket_probability(num_list):\n",
    "    c = combinations(49, len(num_list))\n",
    "    print('The probability of winning with the numbers {} is {:.7f}%, or 1 in {:,.0f}'.format(num_list,round(1/c * 100,8),c))"
   ]
  },
  {
   "cell_type": "code",
   "execution_count": 5,
   "metadata": {},
   "outputs": [
    {
     "name": "stdout",
     "output_type": "stream",
     "text": [
      "The probability of winning with the numbers [1, 2, 3, 4, 5, 6] is 0.0000072%, or 1 in 13,983,816\n"
     ]
    }
   ],
   "source": [
    "#Testing of the function with dummy list of six-number combinations\n",
    "one_ticket_probability([1,2,3,4,5,6])"
   ]
  },
  {
   "cell_type": "code",
   "execution_count": 6,
   "metadata": {},
   "outputs": [
    {
     "name": "stdout",
     "output_type": "stream",
     "text": [
      "The probability of winning with the numbers [5, 18, 20, 36, 41, 48] is 0.0000072%, or 1 in 13,983,816\n"
     ]
    }
   ],
   "source": [
    "one_ticket_probability([5, 18, 20, 36, 41, 48])"
   ]
  },
  {
   "cell_type": "markdown",
   "metadata": {},
   "source": [
    "We now know there are 13,983,816 possible six-number combinations that a user can play. The chances of winning with any given ticket is then _1 in 3,983,816_, or 0.0000072%"
   ]
  },
  {
   "cell_type": "markdown",
   "metadata": {},
   "source": [
    "### Previous occurrence of number combination in winning draws\n",
    "\n",
    "The institute also wants the app to let users know if their ticket hs previously won i.e. has their given six-number combination been drawn in the past.\n",
    "\n",
    "To complete this check, we'll use data available from [Kaggle](https://www.kaggle.com/datascienceai/lottery-dataset), which has the drawing results for the 6/49 lottery since it's launch in 1982.\n",
    "\n",
    "Once again, we consult with the engineering team who inform us of the following:\n",
    "- Inside the app, the user inputs six different numbers from 1 to 49.\n",
    "- Under the hood, the six numbers will come as a Python list and serve as an input to our function.\n",
    "- The engineering team wants us to write a function that prints:\n",
    "    - the number of times the combination selected occurred in the Canada data set; and\n",
    "    - the probability of winning the big prize in the next drawing with that combination."
   ]
  },
  {
   "cell_type": "code",
   "execution_count": 49,
   "metadata": {},
   "outputs": [
    {
     "name": "stdout",
     "output_type": "stream",
     "text": [
      "(3665, 11)\n"
     ]
    }
   ],
   "source": [
    "#Importing lottery draw data\n",
    "lotto = pd.read_csv('649.csv')\n",
    "print(lotto.shape)"
   ]
  },
  {
   "cell_type": "code",
   "execution_count": 8,
   "metadata": {},
   "outputs": [
    {
     "name": "stdout",
     "output_type": "stream",
     "text": [
      "   PRODUCT  DRAW NUMBER  SEQUENCE NUMBER  DRAW DATE  NUMBER DRAWN 1  \\\n",
      "0      649            1                0  6/12/1982               3   \n",
      "1      649            2                0  6/19/1982               8   \n",
      "2      649            3                0  6/26/1982               1   \n",
      "\n",
      "   NUMBER DRAWN 2  NUMBER DRAWN 3  NUMBER DRAWN 4  NUMBER DRAWN 5  \\\n",
      "0              11              12              14              41   \n",
      "1              33              36              37              39   \n",
      "2               6              23              24              27   \n",
      "\n",
      "   NUMBER DRAWN 6  BONUS NUMBER  \n",
      "0              43            13  \n",
      "1              41             9  \n",
      "2              39            34  \n"
     ]
    }
   ],
   "source": [
    "print(lotto.head(3))"
   ]
  },
  {
   "cell_type": "code",
   "execution_count": 9,
   "metadata": {},
   "outputs": [
    {
     "name": "stdout",
     "output_type": "stream",
     "text": [
      "      PRODUCT  DRAW NUMBER  SEQUENCE NUMBER  DRAW DATE  NUMBER DRAWN 1  \\\n",
      "3662      649         3589                0  6/13/2018               6   \n",
      "3663      649         3590                0  6/16/2018               2   \n",
      "3664      649         3591                0  6/20/2018              14   \n",
      "\n",
      "      NUMBER DRAWN 2  NUMBER DRAWN 3  NUMBER DRAWN 4  NUMBER DRAWN 5  \\\n",
      "3662              22              24              31              32   \n",
      "3663              15              21              31              38   \n",
      "3664              24              31              35              37   \n",
      "\n",
      "      NUMBER DRAWN 6  BONUS NUMBER  \n",
      "3662              34            16  \n",
      "3663              49             8  \n",
      "3664              48            17  \n"
     ]
    }
   ],
   "source": [
    "print(lotto.tail(3))"
   ]
  },
  {
   "cell_type": "code",
   "execution_count": 17,
   "metadata": {},
   "outputs": [],
   "source": [
    "#Extracting all winning drawings from the dataas a series of sets\n",
    "def extract_numbers(row):\n",
    "    draw_set = {row[5], row[6], row[7], row[8], row[9], row[10]}\n",
    "    return draw_set"
   ]
  },
  {
   "cell_type": "code",
   "execution_count": 33,
   "metadata": {},
   "outputs": [
    {
     "data": {
      "text/plain": [
       "0    {41, 43, 12, 13, 14, 11}\n",
       "1     {33, 36, 37, 39, 9, 41}\n",
       "2     {34, 6, 39, 23, 24, 27}\n",
       "3     {34, 9, 10, 43, 13, 20}\n",
       "4    {34, 45, 14, 47, 21, 31}\n",
       "dtype: object"
      ]
     },
     "execution_count": 33,
     "metadata": {},
     "output_type": "execute_result"
    }
   ],
   "source": [
    "draw_sets = lotto.apply(extract_numbers, axis=1)\n",
    "draw_sets.head()"
   ]
  },
  {
   "cell_type": "code",
   "execution_count": 45,
   "metadata": {
    "collapsed": true
   },
   "outputs": [],
   "source": [
    "#Checking the users number combination against the series of previous winning combinations\n",
    "def check_historical_occurrence(num_list, winner_sets):\n",
    "    num_list_set = set(num_list)\n",
    "    match = num_list_set == winner_sets\n",
    "    number_matches = sum(match)\n",
    "    winning_prob = 1/combinations(49,len(num_list)) * 100\n",
    "    print('The numbers {} have been drawn {} time(s) in the past. The probability of winning on the next draw with these numbers is {:.7f}%'.format(num_list,number_matches,winning_prob))"
   ]
  },
  {
   "cell_type": "code",
   "execution_count": 47,
   "metadata": {},
   "outputs": [
    {
     "name": "stdout",
     "output_type": "stream",
     "text": [
      "The numbers [11, 12, 13, 14, 41, 43] have been drawn 1 time(s) in the past. The probability of winning on the next draw with these numbers is 0.0000072%\n"
     ]
    }
   ],
   "source": [
    "#Testing with dummy list of six-number combinations\n",
    "check_historical_occurrence([11,12,13,14,41,43],draw_sets)"
   ]
  },
  {
   "cell_type": "code",
   "execution_count": 48,
   "metadata": {},
   "outputs": [
    {
     "name": "stdout",
     "output_type": "stream",
     "text": [
      "The numbers [1, 2, 3, 4, 5, 6] have been drawn 0 time(s) in the past. The probability of winning on the next draw with these numbers is 0.0000072%\n"
     ]
    }
   ],
   "source": [
    "check_historical_occurrence([1,2,3,4,5,6],draw_sets)"
   ]
  },
  {
   "cell_type": "markdown",
   "metadata": {},
   "source": [
    "The extract_numbers function gives us all of the winning drawings since the launch of the lottery, which we then use in the check_historical_occurrence function. This function takes the users numbers and tells us how many times that same combination has occurred in previous drawings.\n",
    "\n",
    "It also tells the user the probability of winning in the next drawing with the given combination. Because each drawing is an independent event, the probability is not affected by previous drawings and hence the user's chances to win are the same as given by the one_ticket_probability function."
   ]
  },
  {
   "cell_type": "markdown",
   "metadata": {},
   "source": [
    "### Probability of winning given multiple tickets\n",
    "Another feature of the app will be to let the user know their probability of winning if they play multiple tickets for the same drawing i.e. multiple six-number combinations.\n",
    "\n",
    "The institute's engineers provide the following information:\n",
    "- The user will input the number of different tickets they want to play (without inputting the specific combinations they intend to play).\n",
    "- Our function will see an integer between 1 and 13,983,816 (the maximum number of different tickets).\n",
    "- The function should print information about the probability of winning the big prize depending on the number of different tickets played."
   ]
  },
  {
   "cell_type": "code",
   "execution_count": 64,
   "metadata": {
    "collapsed": true
   },
   "outputs": [],
   "source": [
    "# Probability of winning by playing t amount of tickets\n",
    "def multi_ticket_probability(t):\n",
    "    c = combinations(49, 6)\n",
    "    multi_prob = t/c * 100\n",
    "    odds = round(c/t,0)\n",
    "    print('Your probability of winning by playing {} ticket(s) is {:.7f}%, or about 1 in {:,.0f}'.format(t,multi_prob,odds))"
   ]
  },
  {
   "cell_type": "code",
   "execution_count": 84,
   "metadata": {},
   "outputs": [
    {
     "name": "stdout",
     "output_type": "stream",
     "text": [
      "Your probability of winning by playing 1 ticket(s) is 0.0000072%, or about 1 in 13,983,816\n",
      "------------------\n",
      "Your probability of winning by playing 10 ticket(s) is 0.0000715%, or about 1 in 1,398,382\n",
      "------------------\n",
      "Your probability of winning by playing 100 ticket(s) is 0.0007151%, or about 1 in 139,838\n",
      "------------------\n",
      "Your probability of winning by playing 1000 ticket(s) is 0.0071511%, or about 1 in 13,984\n",
      "------------------\n",
      "Your probability of winning by playing 6991908 ticket(s) is 50.0000000%, or about 1 in 2\n",
      "------------------\n",
      "Your probability of winning by playing 13983816 ticket(s) is 100.0000000%, or about 1 in 1\n",
      "------------------\n"
     ]
    }
   ],
   "source": [
    "# Testing with different number of tickets t\n",
    "test = [1, 10, 100, 1000, 6991908, 13983816]\n",
    "\n",
    "for num in test:\n",
    "    multi_ticket_probability(num)\n",
    "    print('------------------')"
   ]
  },
  {
   "cell_type": "markdown",
   "metadata": {},
   "source": [
    "The function multi_ticket_probability will tell the user their chances of winning when they play t amount of tickets. As expected, the more tickets played, the better the chances of winning. However, to increase the odd significantly requires a significantly high amount of tickets to be played."
   ]
  },
  {
   "cell_type": "markdown",
   "metadata": {},
   "source": [
    "### Probability of winning smaller jackpots with less matching numbers\n",
    "\n",
    "The app will also contain a feature to let the user know the probability of winning a lower jackpot. These jackpots are won when the user's ticket is only a partial match to the winning drawing i.e. only 2, 3, 4, or 5 of the user's numbers match the drawn numbers.\n",
    "\n",
    "The engineering team has told us the following:\n",
    "- Inside the app, the user inputs:\n",
    "    - six different numbers from 1 to 49; and\n",
    "    - an integer between 2 and 5 that represents the number of winning numbers expected\n",
    "- Our function prints information about the probability of having the inputted number of winning numbers."
   ]
  },
  {
   "cell_type": "code",
   "execution_count": 82,
   "metadata": {
    "collapsed": true
   },
   "outputs": [],
   "source": [
    "def probability_less_6(x):\n",
    "    x_combinations = combinations(6,x) # Number of combinations for x numbers from selection of 6\n",
    "    remainder_comb = combinations(49-x,6-x) # Remainder of possible combinations given x matching numbers\n",
    "    success_comb = x_combinations * remainder_comb # Succesful outcomes given x matching numbers\n",
    "    c = combinations(49,6)\n",
    "    less_6_prob = success_comb / c * 100\n",
    "    print('The probability of matching {} numbers from winning draw is {:.5f}%'.format(x,less_6_prob))"
   ]
  },
  {
   "cell_type": "code",
   "execution_count": 83,
   "metadata": {},
   "outputs": [
    {
     "name": "stdout",
     "output_type": "stream",
     "text": [
      "The probability of matching 2 numbers from winning draw is 19.13265%\n",
      "---------------\n",
      "The probability of matching 3 numbers from winning draw is 2.17108%\n",
      "---------------\n",
      "The probability of matching 4 numbers from winning draw is 0.10619%\n",
      "---------------\n",
      "The probability of matching 5 numbers from winning draw is 0.00189%\n",
      "---------------\n"
     ]
    }
   ],
   "source": [
    "test = [2,3,4,5]\n",
    "\n",
    "for num in test:\n",
    "    probability_less_6(num)\n",
    "    print('---------------')"
   ]
  },
  {
   "cell_type": "markdown",
   "metadata": {},
   "source": [
    "The probability_less_6 function takes an integer beteen 2 and 5 from the user that represents the number of matches to winning numbers and gives back the probability of getting that number of matches. It calculates the number of total successful outcomes by multiplying the number of combinations of **x** matching numbers out of the six that make up a ticket, by the number possible outcomes for a given **x-number** combination\n",
    "\n",
    "The probability that **x** numbers match is the same regardless of what six-number combination the user selects, which is why the function does not take the user's combination as a parameter."
   ]
  },
  {
   "cell_type": "markdown",
   "metadata": {},
   "source": [
    "### Summary\n",
    "\n",
    "In this project we created four functions which will drive the logic for an app aimed at helping lottery addicts better understand the probability of winning the 6/49 lottery. The four functions are:\n",
    "1. <span style="color:blue">one_ticket_probability()</span> — calculates the probability of winning the big prize with a single ticket\n",
    "2. <span style="color:blue">check_historical_occurrence()</span> — checks whether a certain combination has occurred in the Canada lottery data set\n",
    "3. <span style="color:blue">multi_ticket_probability()</span> — calculates the probability for any number of of tickets between 1 and 13,983,816\n",
    "4. <span style="color:blue">probability_less_6()</span> — calculates the probability of having two, three, four or five winning numbers\n",
    "\n",
    "These four functions in turn call our two core functions:\n",
    "1. <span style="color:blue">factorial()</span> - calculates the factorial of n\n",
    "2. <span style="color:blue">combinations()</span> - caculates the number of combinations for k objects chosen from a total of n objects.\n",
    "\n",
    "This functions meet the requirements needed for a first version of the described app, but future versions of the app should aim to improve the functions and outputs, for examle, combining functions where it makes sense and improves performance/experience for the user."
   ]
  },
  {
   "cell_type": "code",
   "execution_count": null,
   "metadata": {
    "collapsed": true
   },
   "outputs": [],
   "source": []
  }
 ],
 "metadata": {
  "kernelspec": {
   "display_name": "Python 3",
   "language": "python",
   "name": "python3"
  },
  "language_info": {
   "codemirror_mode": {
    "name": "ipython",
    "version": 3
   },
   "file_extension": ".py",
   "mimetype": "text/x-python",
   "name": "python",
   "nbconvert_exporter": "python",
   "pygments_lexer": "ipython3",
   "version": "3.7.4"
  }
 },
 "nbformat": 4,
 "nbformat_minor": 2
}
